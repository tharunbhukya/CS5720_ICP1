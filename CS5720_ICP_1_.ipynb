{
  "cells": [
    {
      "cell_type": "code",
      "execution_count": 1,
      "id": "62b10c47",
      "metadata": {
        "colab": {
          "base_uri": "https://localhost:8080/"
        },
        "id": "62b10c47",
        "outputId": "d748f630-8ce2-47b5-b26c-e7dad73f42e4"
      },
      "outputs": [
        {
          "output_type": "stream",
          "name": "stdout",
          "text": [
            "Enter a String: python\n",
            "ntyp\n"
          ]
        }
      ],
      "source": [
        "x = input(\"Enter a String: \")\n",
        "y=x.replace(\"ho\",\"\")[::-1]\n",
        "print(y)"
      ]
    },
    {
      "cell_type": "code",
      "execution_count": 2,
      "id": "dfcb10cb",
      "metadata": {
        "colab": {
          "base_uri": "https://localhost:8080/"
        },
        "id": "dfcb10cb",
        "outputId": "4a1601cc-f45c-4558-cd9c-a63ecf2c6db0"
      },
      "outputs": [
        {
          "output_type": "stream",
          "name": "stdout",
          "text": [
            "6\n",
            "7\n",
            "13\n",
            "-1\n",
            "42\n",
            "0.8571428571428571\n"
          ]
        }
      ],
      "source": [
        "a = int(input())\n",
        "b = int(input())\n",
        "print(a+b)\n",
        "print(a-b)\n",
        "print(a*b)\n",
        "print(a/b)"
      ]
    },
    {
      "cell_type": "code",
      "execution_count": 3,
      "id": "440f581f",
      "metadata": {
        "colab": {
          "base_uri": "https://localhost:8080/"
        },
        "id": "440f581f",
        "outputId": "6fa7b383-1bbe-4d4b-ea5a-a1749575c063"
      },
      "outputs": [
        {
          "output_type": "stream",
          "name": "stdout",
          "text": [
            "Enter a String:I love playing with python\n",
            "I love playing with pythons\n"
          ]
        }
      ],
      "source": [
        "z = input(\"Enter a String:\")\n",
        "t = z.replace(\"python\", \"pythons\")\n",
        "print(t)\n"
      ]
    },
    {
      "cell_type": "code",
      "execution_count": 4,
      "id": "9e3d0a42",
      "metadata": {
        "colab": {
          "base_uri": "https://localhost:8080/"
        },
        "id": "9e3d0a42",
        "outputId": "3b3fed10-9735-441b-8a55-c2904bd33f04"
      },
      "outputs": [
        {
          "output_type": "stream",
          "name": "stdout",
          "text": [
            "Enter  score that has to be less than 100: 95\n",
            "A\n"
          ]
        }
      ],
      "source": [
        "grade = int(input(\"Enter  score that has to be less than 100: \"))\n",
        "if(grade>90 and grade <= 100):\n",
        "    print(\"A\")\n",
        "elif(grade>80 and grade<=90):\n",
        "    print(\"B\")\n",
        "elif(grade>70 and grade<=80):\n",
        "    print(\"C\")\n",
        "elif(grade>60 and grade<=70):\n",
        "    print(\"D\")\n",
        "elif(grade<=60):\n",
        "    print(\"fail\")\n",
        "else:\n",
        "    print(\"Number should be less than 100\")"
      ]
    }
  ],
  "metadata": {
    "kernelspec": {
      "display_name": "Python 3 (ipykernel)",
      "language": "python",
      "name": "python3"
    },
    "language_info": {
      "codemirror_mode": {
        "name": "ipython",
        "version": 3
      },
      "file_extension": ".py",
      "mimetype": "text/x-python",
      "name": "python",
      "nbconvert_exporter": "python",
      "pygments_lexer": "ipython3",
      "version": "3.10.9"
    },
    "colab": {
      "provenance": []
    }
  },
  "nbformat": 4,
  "nbformat_minor": 5
}